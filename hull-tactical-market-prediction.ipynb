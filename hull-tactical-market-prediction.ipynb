{
 "cells": [
  {
   "cell_type": "markdown",
   "metadata": {},
   "source": [
    "<a href=\"https://www.kaggle.com/code/saroshfarhan1/hull-tactical-market-prediction?scriptVersionId=270013078\" target=\"_blank\"><img align=\"left\" alt=\"Kaggle\" title=\"Open in Kaggle\" src=\"https://kaggle.com/static/images/open-in-kaggle.svg\"></a>"
   ]
  },
  {
   "cell_type": "code",
   "execution_count": null,
   "id": "e62a78fe",
   "metadata": {
    "_cell_guid": "b1076dfc-b9ad-4769-8c92-a6c4dae69d19",
    "_uuid": "8f2839f25d086af736a60e9eeb907d3b93b6e0e5",
    "execution": {
     "iopub.execute_input": "2025-10-22T15:28:30.845361Z",
     "iopub.status.busy": "2025-10-22T15:28:30.845063Z",
     "iopub.status.idle": "2025-10-22T15:28:32.761273Z",
     "shell.execute_reply": "2025-10-22T15:28:32.760252Z"
    },
    "papermill": {
     "duration": 1.921345,
     "end_time": "2025-10-22T15:28:32.762911",
     "exception": false,
     "start_time": "2025-10-22T15:28:30.841566",
     "status": "completed"
    },
    "tags": []
   },
   "outputs": [
    {
     "ename": "ModuleNotFoundError",
     "evalue": "No module named 'pandas'",
     "output_type": "error",
     "traceback": [
      "\u001b[0;31m---------------------------------------------------------------------------\u001b[0m",
      "\u001b[0;31mModuleNotFoundError\u001b[0m                       Traceback (most recent call last)",
      "Cell \u001b[0;32mIn[1], line 6\u001b[0m\n\u001b[1;32m      1\u001b[0m \u001b[38;5;66;03m# This Python 3 environment comes with many helpful analytics libraries installed\u001b[39;00m\n\u001b[1;32m      2\u001b[0m \u001b[38;5;66;03m# It is defined by the kaggle/python Docker image: https://github.com/kaggle/docker-python\u001b[39;00m\n\u001b[1;32m      3\u001b[0m \u001b[38;5;66;03m# For example, here's several helpful packages to load\u001b[39;00m\n\u001b[1;32m      5\u001b[0m \u001b[38;5;28;01mimport\u001b[39;00m\u001b[38;5;250m \u001b[39m\u001b[38;5;21;01mnumpy\u001b[39;00m\u001b[38;5;250m \u001b[39m\u001b[38;5;28;01mas\u001b[39;00m\u001b[38;5;250m \u001b[39m\u001b[38;5;21;01mnp\u001b[39;00m \u001b[38;5;66;03m# linear algebra\u001b[39;00m\n\u001b[0;32m----> 6\u001b[0m \u001b[38;5;28;01mimport\u001b[39;00m\u001b[38;5;250m \u001b[39m\u001b[38;5;21;01mpandas\u001b[39;00m\u001b[38;5;250m \u001b[39m\u001b[38;5;28;01mas\u001b[39;00m\u001b[38;5;250m \u001b[39m\u001b[38;5;21;01mpd\u001b[39;00m \u001b[38;5;66;03m# data processing, CSV file I/O (e.g. pd.read_csv)\u001b[39;00m\n\u001b[1;32m      8\u001b[0m \u001b[38;5;66;03m# Input data files are available in the read-only \"../input/\" directory\u001b[39;00m\n\u001b[1;32m      9\u001b[0m \u001b[38;5;66;03m# For example, running this (by clicking run or pressing Shift+Enter) will list all files under the input directory\u001b[39;00m\n\u001b[1;32m     10\u001b[0m \n\u001b[0;32m   (...)\u001b[0m\n\u001b[1;32m     16\u001b[0m \u001b[38;5;66;03m# You can write up to 20GB to the current directory (/kaggle/working/) that gets preserved as output when you create a version using \"Save & Run All\" \u001b[39;00m\n\u001b[1;32m     17\u001b[0m \u001b[38;5;66;03m# You can also write temporary files to /kaggle/temp/, but they won't be saved outside of the current session\u001b[39;00m\n",
      "\u001b[0;31mModuleNotFoundError\u001b[0m: No module named 'pandas'"
     ]
    }
   ],
   "source": [
    "# This Python 3 environment comes with many helpful analytics libraries installed\n",
    "# It is defined by the kaggle/python Docker image: https://github.com/kaggle/docker-python\n",
    "# For example, here's several helpful packages to load\n",
    "\n",
    "import numpy as np # linear algebra\n",
    "import pandas as pd # data processing, CSV file I/O (e.g. pd.read_csv)\n",
    "\n",
    "# Input data files are available in the read-only \"../input/\" directory\n",
    "# For example, running this (by clicking run or pressing Shift+Enter) will list all files under the input directory\n",
    "\n",
    "import os\n",
    "for dirname, _, filenames in os.walk('/kaggle/input'):\n",
    "    for filename in filenames:\n",
    "        print(os.path.join(dirname, filename))\n",
    "\n",
    "# You can write up to 20GB to the current directory (/kaggle/working/) that gets preserved as output when you create a version using \"Save & Run All\" \n",
    "# You can also write temporary files to /kaggle/temp/, but they won't be saved outside of the current session"
   ]
  },
  {
   "cell_type": "code",
   "execution_count": 2,
   "id": "40f1f7ab",
   "metadata": {
    "execution": {
     "iopub.execute_input": "2025-10-22T15:28:32.768573Z",
     "iopub.status.busy": "2025-10-22T15:28:32.768166Z",
     "iopub.status.idle": "2025-10-22T15:28:33.148853Z",
     "shell.execute_reply": "2025-10-22T15:28:33.147866Z"
    },
    "papermill": {
     "duration": 0.385277,
     "end_time": "2025-10-22T15:28:33.150653",
     "exception": false,
     "start_time": "2025-10-22T15:28:32.765376",
     "status": "completed"
    },
    "tags": []
   },
   "outputs": [],
   "source": [
    "train_df =  pd.read_csv(\"/kaggle/input/hull-tactical-market-prediction/train.csv\")\n",
    "test_df = pd.read_csv(\"/kaggle/input/hull-tactical-market-prediction/test.csv\")"
   ]
  },
  {
   "cell_type": "code",
   "execution_count": 1,
   "id": "dcc929d3",
   "metadata": {},
   "outputs": [],
   "source": [
    "## Local\n",
    "import pandas as pd\n",
    "import matplotlib.pyplot as plt\n",
    "import seaborn as sns\n",
    "\n",
    "# for local version\n",
    "train_df =  pd.read_csv(\"hull-tactical-market-prediction/train.csv\")\n",
    "test_df = pd.read_csv(\"hull-tactical-market-prediction/test.csv\")"
   ]
  },
  {
   "cell_type": "code",
   "execution_count": 2,
   "id": "26816be0",
   "metadata": {
    "execution": {
     "iopub.execute_input": "2025-10-22T15:28:33.155966Z",
     "iopub.status.busy": "2025-10-22T15:28:33.155193Z",
     "iopub.status.idle": "2025-10-22T15:28:33.196137Z",
     "shell.execute_reply": "2025-10-22T15:28:33.194594Z"
    },
    "papermill": {
     "duration": 0.045204,
     "end_time": "2025-10-22T15:28:33.197852",
     "exception": false,
     "start_time": "2025-10-22T15:28:33.152648",
     "status": "completed"
    },
    "tags": []
   },
   "outputs": [
    {
     "name": "stdout",
     "output_type": "stream",
     "text": [
      "<class 'pandas.core.frame.DataFrame'>\n",
      "RangeIndex: 8990 entries, 0 to 8989\n",
      "Data columns (total 98 columns):\n",
      " #   Column                         Non-Null Count  Dtype  \n",
      "---  ------                         --------------  -----  \n",
      " 0   date_id                        8990 non-null   int64  \n",
      " 1   D1                             8990 non-null   int64  \n",
      " 2   D2                             8990 non-null   int64  \n",
      " 3   D3                             8990 non-null   int64  \n",
      " 4   D4                             8990 non-null   int64  \n",
      " 5   D5                             8990 non-null   int64  \n",
      " 6   D6                             8990 non-null   int64  \n",
      " 7   D7                             8990 non-null   int64  \n",
      " 8   D8                             8990 non-null   int64  \n",
      " 9   D9                             8990 non-null   int64  \n",
      " 10  E1                             7206 non-null   float64\n",
      " 11  E10                            7984 non-null   float64\n",
      " 12  E11                            7984 non-null   float64\n",
      " 13  E12                            7984 non-null   float64\n",
      " 14  E13                            7984 non-null   float64\n",
      " 15  E14                            7984 non-null   float64\n",
      " 16  E15                            7984 non-null   float64\n",
      " 17  E16                            7984 non-null   float64\n",
      " 18  E17                            7984 non-null   float64\n",
      " 19  E18                            7984 non-null   float64\n",
      " 20  E19                            7984 non-null   float64\n",
      " 21  E2                             7984 non-null   float64\n",
      " 22  E20                            7374 non-null   float64\n",
      " 23  E3                             7984 non-null   float64\n",
      " 24  E4                             7984 non-null   float64\n",
      " 25  E5                             7984 non-null   float64\n",
      " 26  E6                             7984 non-null   float64\n",
      " 27  E7                             2021 non-null   float64\n",
      " 28  E8                             7984 non-null   float64\n",
      " 29  E9                             7984 non-null   float64\n",
      " 30  I1                             7984 non-null   float64\n",
      " 31  I2                             7984 non-null   float64\n",
      " 32  I3                             7984 non-null   float64\n",
      " 33  I4                             7984 non-null   float64\n",
      " 34  I5                             7984 non-null   float64\n",
      " 35  I6                             7984 non-null   float64\n",
      " 36  I7                             7984 non-null   float64\n",
      " 37  I8                             7984 non-null   float64\n",
      " 38  I9                             7984 non-null   float64\n",
      " 39  M1                             3443 non-null   float64\n",
      " 40  M10                            7984 non-null   float64\n",
      " 41  M11                            7984 non-null   float64\n",
      " 42  M12                            7984 non-null   float64\n",
      " 43  M13                            3450 non-null   float64\n",
      " 44  M14                            3450 non-null   float64\n",
      " 45  M15                            7984 non-null   float64\n",
      " 46  M16                            7984 non-null   float64\n",
      " 47  M17                            7984 non-null   float64\n",
      " 48  M18                            7984 non-null   float64\n",
      " 49  M2                             5773 non-null   float64\n",
      " 50  M3                             6972 non-null   float64\n",
      " 51  M4                             7984 non-null   float64\n",
      " 52  M5                             5707 non-null   float64\n",
      " 53  M6                             3947 non-null   float64\n",
      " 54  M7                             7984 non-null   float64\n",
      " 55  M8                             7984 non-null   float64\n",
      " 56  M9                             7984 non-null   float64\n",
      " 57  P1                             7984 non-null   float64\n",
      " 58  P10                            7984 non-null   float64\n",
      " 59  P11                            7984 non-null   float64\n",
      " 60  P12                            7984 non-null   float64\n",
      " 61  P13                            7984 non-null   float64\n",
      " 62  P2                             7984 non-null   float64\n",
      " 63  P3                             7984 non-null   float64\n",
      " 64  P4                             7984 non-null   float64\n",
      " 65  P5                             7416 non-null   float64\n",
      " 66  P6                             7352 non-null   float64\n",
      " 67  P7                             7374 non-null   float64\n",
      " 68  P8                             7984 non-null   float64\n",
      " 69  P9                             7984 non-null   float64\n",
      " 70  S1                             7984 non-null   float64\n",
      " 71  S10                            7984 non-null   float64\n",
      " 72  S11                            7984 non-null   float64\n",
      " 73  S12                            5453 non-null   float64\n",
      " 74  S2                             7984 non-null   float64\n",
      " 75  S3                             3257 non-null   float64\n",
      " 76  S4                             7984 non-null   float64\n",
      " 77  S5                             7479 non-null   float64\n",
      " 78  S6                             7984 non-null   float64\n",
      " 79  S7                             7984 non-null   float64\n",
      " 80  S8                             5981 non-null   float64\n",
      " 81  S9                             7984 non-null   float64\n",
      " 82  V1                             7984 non-null   float64\n",
      " 83  V10                            2941 non-null   float64\n",
      " 84  V11                            7984 non-null   float64\n",
      " 85  V12                            7984 non-null   float64\n",
      " 86  V13                            7479 non-null   float64\n",
      " 87  V2                             7984 non-null   float64\n",
      " 88  V3                             7984 non-null   float64\n",
      " 89  V4                             7984 non-null   float64\n",
      " 90  V5                             7478 non-null   float64\n",
      " 91  V6                             7984 non-null   float64\n",
      " 92  V7                             7479 non-null   float64\n",
      " 93  V8                             7984 non-null   float64\n",
      " 94  V9                             4451 non-null   float64\n",
      " 95  forward_returns                8990 non-null   float64\n",
      " 96  risk_free_rate                 8990 non-null   float64\n",
      " 97  market_forward_excess_returns  8990 non-null   float64\n",
      "dtypes: float64(88), int64(10)\n",
      "memory usage: 6.7 MB\n"
     ]
    }
   ],
   "source": [
    "train_df.info()"
   ]
  },
  {
   "cell_type": "code",
   "execution_count": 3,
   "id": "13097cbd",
   "metadata": {
    "execution": {
     "iopub.execute_input": "2025-10-22T15:28:33.203092Z",
     "iopub.status.busy": "2025-10-22T15:28:33.202808Z",
     "iopub.status.idle": "2025-10-22T15:28:33.233299Z",
     "shell.execute_reply": "2025-10-22T15:28:33.232297Z"
    },
    "papermill": {
     "duration": 0.034797,
     "end_time": "2025-10-22T15:28:33.234786",
     "exception": false,
     "start_time": "2025-10-22T15:28:33.199989",
     "status": "completed"
    },
    "tags": []
   },
   "outputs": [
    {
     "data": {
      "application/vnd.microsoft.datawrangler.viewer.v0+json": {
       "columns": [
        {
         "name": "index",
         "rawType": "int64",
         "type": "integer"
        },
        {
         "name": "date_id",
         "rawType": "int64",
         "type": "integer"
        },
        {
         "name": "D1",
         "rawType": "int64",
         "type": "integer"
        },
        {
         "name": "D2",
         "rawType": "int64",
         "type": "integer"
        },
        {
         "name": "D3",
         "rawType": "int64",
         "type": "integer"
        },
        {
         "name": "D4",
         "rawType": "int64",
         "type": "integer"
        },
        {
         "name": "D5",
         "rawType": "int64",
         "type": "integer"
        },
        {
         "name": "D6",
         "rawType": "int64",
         "type": "integer"
        },
        {
         "name": "D7",
         "rawType": "int64",
         "type": "integer"
        },
        {
         "name": "D8",
         "rawType": "int64",
         "type": "integer"
        },
        {
         "name": "D9",
         "rawType": "int64",
         "type": "integer"
        },
        {
         "name": "E1",
         "rawType": "float64",
         "type": "float"
        },
        {
         "name": "E10",
         "rawType": "float64",
         "type": "float"
        },
        {
         "name": "E11",
         "rawType": "float64",
         "type": "float"
        },
        {
         "name": "E12",
         "rawType": "float64",
         "type": "float"
        },
        {
         "name": "E13",
         "rawType": "float64",
         "type": "float"
        },
        {
         "name": "E14",
         "rawType": "float64",
         "type": "float"
        },
        {
         "name": "E15",
         "rawType": "float64",
         "type": "float"
        },
        {
         "name": "E16",
         "rawType": "float64",
         "type": "float"
        },
        {
         "name": "E17",
         "rawType": "float64",
         "type": "float"
        },
        {
         "name": "E18",
         "rawType": "float64",
         "type": "float"
        },
        {
         "name": "E19",
         "rawType": "float64",
         "type": "float"
        },
        {
         "name": "E2",
         "rawType": "float64",
         "type": "float"
        },
        {
         "name": "E20",
         "rawType": "float64",
         "type": "float"
        },
        {
         "name": "E3",
         "rawType": "float64",
         "type": "float"
        },
        {
         "name": "E4",
         "rawType": "float64",
         "type": "float"
        },
        {
         "name": "E5",
         "rawType": "float64",
         "type": "float"
        },
        {
         "name": "E6",
         "rawType": "float64",
         "type": "float"
        },
        {
         "name": "E7",
         "rawType": "float64",
         "type": "float"
        },
        {
         "name": "E8",
         "rawType": "float64",
         "type": "float"
        },
        {
         "name": "E9",
         "rawType": "float64",
         "type": "float"
        },
        {
         "name": "I1",
         "rawType": "float64",
         "type": "float"
        },
        {
         "name": "I2",
         "rawType": "float64",
         "type": "float"
        },
        {
         "name": "I3",
         "rawType": "float64",
         "type": "float"
        },
        {
         "name": "I4",
         "rawType": "float64",
         "type": "float"
        },
        {
         "name": "I5",
         "rawType": "float64",
         "type": "float"
        },
        {
         "name": "I6",
         "rawType": "float64",
         "type": "float"
        },
        {
         "name": "I7",
         "rawType": "float64",
         "type": "float"
        },
        {
         "name": "I8",
         "rawType": "float64",
         "type": "float"
        },
        {
         "name": "I9",
         "rawType": "float64",
         "type": "float"
        },
        {
         "name": "M1",
         "rawType": "float64",
         "type": "float"
        },
        {
         "name": "M10",
         "rawType": "float64",
         "type": "float"
        },
        {
         "name": "M11",
         "rawType": "float64",
         "type": "float"
        },
        {
         "name": "M12",
         "rawType": "float64",
         "type": "float"
        },
        {
         "name": "M13",
         "rawType": "float64",
         "type": "float"
        },
        {
         "name": "M14",
         "rawType": "float64",
         "type": "float"
        },
        {
         "name": "M15",
         "rawType": "float64",
         "type": "float"
        },
        {
         "name": "M16",
         "rawType": "float64",
         "type": "float"
        },
        {
         "name": "M17",
         "rawType": "float64",
         "type": "float"
        },
        {
         "name": "M18",
         "rawType": "float64",
         "type": "float"
        },
        {
         "name": "M2",
         "rawType": "float64",
         "type": "float"
        },
        {
         "name": "M3",
         "rawType": "float64",
         "type": "float"
        },
        {
         "name": "M4",
         "rawType": "float64",
         "type": "float"
        },
        {
         "name": "M5",
         "rawType": "float64",
         "type": "float"
        },
        {
         "name": "M6",
         "rawType": "float64",
         "type": "float"
        },
        {
         "name": "M7",
         "rawType": "float64",
         "type": "float"
        },
        {
         "name": "M8",
         "rawType": "float64",
         "type": "float"
        },
        {
         "name": "M9",
         "rawType": "float64",
         "type": "float"
        },
        {
         "name": "P1",
         "rawType": "float64",
         "type": "float"
        },
        {
         "name": "P10",
         "rawType": "float64",
         "type": "float"
        },
        {
         "name": "P11",
         "rawType": "float64",
         "type": "float"
        },
        {
         "name": "P12",
         "rawType": "float64",
         "type": "float"
        },
        {
         "name": "P13",
         "rawType": "float64",
         "type": "float"
        },
        {
         "name": "P2",
         "rawType": "float64",
         "type": "float"
        },
        {
         "name": "P3",
         "rawType": "float64",
         "type": "float"
        },
        {
         "name": "P4",
         "rawType": "float64",
         "type": "float"
        },
        {
         "name": "P5",
         "rawType": "float64",
         "type": "float"
        },
        {
         "name": "P6",
         "rawType": "float64",
         "type": "float"
        },
        {
         "name": "P7",
         "rawType": "float64",
         "type": "float"
        },
        {
         "name": "P8",
         "rawType": "float64",
         "type": "float"
        },
        {
         "name": "P9",
         "rawType": "float64",
         "type": "float"
        },
        {
         "name": "S1",
         "rawType": "float64",
         "type": "float"
        },
        {
         "name": "S10",
         "rawType": "float64",
         "type": "float"
        },
        {
         "name": "S11",
         "rawType": "float64",
         "type": "float"
        },
        {
         "name": "S12",
         "rawType": "float64",
         "type": "float"
        },
        {
         "name": "S2",
         "rawType": "float64",
         "type": "float"
        },
        {
         "name": "S3",
         "rawType": "float64",
         "type": "float"
        },
        {
         "name": "S4",
         "rawType": "float64",
         "type": "float"
        },
        {
         "name": "S5",
         "rawType": "float64",
         "type": "float"
        },
        {
         "name": "S6",
         "rawType": "float64",
         "type": "float"
        },
        {
         "name": "S7",
         "rawType": "float64",
         "type": "float"
        },
        {
         "name": "S8",
         "rawType": "float64",
         "type": "float"
        },
        {
         "name": "S9",
         "rawType": "float64",
         "type": "float"
        },
        {
         "name": "V1",
         "rawType": "float64",
         "type": "float"
        },
        {
         "name": "V10",
         "rawType": "float64",
         "type": "float"
        },
        {
         "name": "V11",
         "rawType": "float64",
         "type": "float"
        },
        {
         "name": "V12",
         "rawType": "float64",
         "type": "float"
        },
        {
         "name": "V13",
         "rawType": "float64",
         "type": "float"
        },
        {
         "name": "V2",
         "rawType": "float64",
         "type": "float"
        },
        {
         "name": "V3",
         "rawType": "float64",
         "type": "float"
        },
        {
         "name": "V4",
         "rawType": "float64",
         "type": "float"
        },
        {
         "name": "V5",
         "rawType": "float64",
         "type": "float"
        },
        {
         "name": "V6",
         "rawType": "float64",
         "type": "float"
        },
        {
         "name": "V7",
         "rawType": "float64",
         "type": "float"
        },
        {
         "name": "V8",
         "rawType": "float64",
         "type": "float"
        },
        {
         "name": "V9",
         "rawType": "float64",
         "type": "float"
        },
        {
         "name": "forward_returns",
         "rawType": "float64",
         "type": "float"
        },
        {
         "name": "risk_free_rate",
         "rawType": "float64",
         "type": "float"
        },
        {
         "name": "market_forward_excess_returns",
         "rawType": "float64",
         "type": "float"
        }
       ],
       "ref": "ea9a9fe5-f2b8-41d8-b88b-33aaf459d333",
       "rows": [
        [
         "0",
         "0",
         "0",
         "0",
         "0",
         "1",
         "1",
         "0",
         "0",
         "0",
         "1",
         null,
         null,
         null,
         null,
         null,
         null,
         null,
         null,
         null,
         null,
         null,
         null,
         null,
         null,
         null,
         null,
         null,
         null,
         null,
         null,
         null,
         null,
         null,
         null,
         null,
         null,
         null,
         null,
         null,
         null,
         null,
         null,
         null,
         null,
         null,
         null,
         null,
         null,
         null,
         null,
         null,
         null,
         null,
         null,
         null,
         null,
         null,
         null,
         null,
         null,
         null,
         null,
         null,
         null,
         null,
         null,
         null,
         null,
         null,
         null,
         null,
         null,
         null,
         null,
         null,
         null,
         null,
         null,
         null,
         null,
         null,
         null,
         null,
         null,
         null,
         null,
         null,
         null,
         null,
         null,
         null,
         null,
         null,
         null,
         null,
         "-0.0024211742695206",
         "0.0003007936507936",
         "-0.0030384793599786"
        ],
        [
         "1",
         "1",
         "0",
         "0",
         "0",
         "1",
         "1",
         "0",
         "0",
         "0",
         "1",
         null,
         null,
         null,
         null,
         null,
         null,
         null,
         null,
         null,
         null,
         null,
         null,
         null,
         null,
         null,
         null,
         null,
         null,
         null,
         null,
         null,
         null,
         null,
         null,
         null,
         null,
         null,
         null,
         null,
         null,
         null,
         null,
         null,
         null,
         null,
         null,
         null,
         null,
         null,
         null,
         null,
         null,
         null,
         null,
         null,
         null,
         null,
         null,
         null,
         null,
         null,
         null,
         null,
         null,
         null,
         null,
         null,
         null,
         null,
         null,
         null,
         null,
         null,
         null,
         null,
         null,
         null,
         null,
         null,
         null,
         null,
         null,
         null,
         null,
         null,
         null,
         null,
         null,
         null,
         null,
         null,
         null,
         null,
         null,
         null,
         "-0.0084946770367918",
         "0.0003027777777777",
         "-0.0091140456193133"
        ],
        [
         "2",
         "2",
         "0",
         "0",
         "0",
         "1",
         "0",
         "0",
         "0",
         "0",
         "1",
         null,
         null,
         null,
         null,
         null,
         null,
         null,
         null,
         null,
         null,
         null,
         null,
         null,
         null,
         null,
         null,
         null,
         null,
         null,
         null,
         null,
         null,
         null,
         null,
         null,
         null,
         null,
         null,
         null,
         null,
         null,
         null,
         null,
         null,
         null,
         null,
         null,
         null,
         null,
         null,
         null,
         null,
         null,
         null,
         null,
         null,
         null,
         null,
         null,
         null,
         null,
         null,
         null,
         null,
         null,
         null,
         null,
         null,
         null,
         null,
         null,
         null,
         null,
         null,
         null,
         null,
         null,
         null,
         null,
         null,
         null,
         null,
         null,
         null,
         null,
         null,
         null,
         null,
         null,
         null,
         null,
         null,
         null,
         null,
         null,
         "-0.009624478442281",
         "0.0003011904761904",
         "-0.0102425375009931"
        ],
        [
         "3",
         "3",
         "0",
         "0",
         "0",
         "1",
         "0",
         "0",
         "0",
         "0",
         "0",
         null,
         null,
         null,
         null,
         null,
         null,
         null,
         null,
         null,
         null,
         null,
         null,
         null,
         null,
         null,
         null,
         null,
         null,
         null,
         null,
         null,
         null,
         null,
         null,
         null,
         null,
         null,
         null,
         null,
         null,
         null,
         null,
         null,
         null,
         null,
         null,
         null,
         null,
         null,
         null,
         null,
         null,
         null,
         null,
         null,
         null,
         null,
         null,
         null,
         null,
         null,
         null,
         null,
         null,
         null,
         null,
         null,
         null,
         null,
         null,
         null,
         null,
         null,
         null,
         null,
         null,
         null,
         null,
         null,
         null,
         null,
         null,
         null,
         null,
         null,
         null,
         null,
         null,
         null,
         null,
         null,
         null,
         null,
         null,
         null,
         "0.004662397483429",
         "0.0002992063492063",
         "0.004046203504082"
        ],
        [
         "4",
         "4",
         "0",
         "0",
         "0",
         "1",
         "0",
         "0",
         "0",
         "0",
         "0",
         null,
         null,
         null,
         null,
         null,
         null,
         null,
         null,
         null,
         null,
         null,
         null,
         null,
         null,
         null,
         null,
         null,
         null,
         null,
         null,
         null,
         null,
         null,
         null,
         null,
         null,
         null,
         null,
         null,
         null,
         null,
         null,
         null,
         null,
         null,
         null,
         null,
         null,
         null,
         null,
         null,
         null,
         null,
         null,
         null,
         null,
         null,
         null,
         null,
         null,
         null,
         null,
         null,
         null,
         null,
         null,
         null,
         null,
         null,
         null,
         null,
         null,
         null,
         null,
         null,
         null,
         null,
         null,
         null,
         null,
         null,
         null,
         null,
         null,
         null,
         null,
         null,
         null,
         null,
         null,
         null,
         null,
         null,
         null,
         null,
         "-0.0116857701984905",
         "0.0002992063492063",
         "-0.0123006546540279"
        ]
       ],
       "shape": {
        "columns": 98,
        "rows": 5
       }
      },
      "text/html": [
       "<div>\n",
       "<style scoped>\n",
       "    .dataframe tbody tr th:only-of-type {\n",
       "        vertical-align: middle;\n",
       "    }\n",
       "\n",
       "    .dataframe tbody tr th {\n",
       "        vertical-align: top;\n",
       "    }\n",
       "\n",
       "    .dataframe thead th {\n",
       "        text-align: right;\n",
       "    }\n",
       "</style>\n",
       "<table border=\"1\" class=\"dataframe\">\n",
       "  <thead>\n",
       "    <tr style=\"text-align: right;\">\n",
       "      <th></th>\n",
       "      <th>date_id</th>\n",
       "      <th>D1</th>\n",
       "      <th>D2</th>\n",
       "      <th>D3</th>\n",
       "      <th>D4</th>\n",
       "      <th>D5</th>\n",
       "      <th>D6</th>\n",
       "      <th>D7</th>\n",
       "      <th>D8</th>\n",
       "      <th>D9</th>\n",
       "      <th>...</th>\n",
       "      <th>V3</th>\n",
       "      <th>V4</th>\n",
       "      <th>V5</th>\n",
       "      <th>V6</th>\n",
       "      <th>V7</th>\n",
       "      <th>V8</th>\n",
       "      <th>V9</th>\n",
       "      <th>forward_returns</th>\n",
       "      <th>risk_free_rate</th>\n",
       "      <th>market_forward_excess_returns</th>\n",
       "    </tr>\n",
       "  </thead>\n",
       "  <tbody>\n",
       "    <tr>\n",
       "      <th>0</th>\n",
       "      <td>0</td>\n",
       "      <td>0</td>\n",
       "      <td>0</td>\n",
       "      <td>0</td>\n",
       "      <td>1</td>\n",
       "      <td>1</td>\n",
       "      <td>0</td>\n",
       "      <td>0</td>\n",
       "      <td>0</td>\n",
       "      <td>1</td>\n",
       "      <td>...</td>\n",
       "      <td>NaN</td>\n",
       "      <td>NaN</td>\n",
       "      <td>NaN</td>\n",
       "      <td>NaN</td>\n",
       "      <td>NaN</td>\n",
       "      <td>NaN</td>\n",
       "      <td>NaN</td>\n",
       "      <td>-0.002421</td>\n",
       "      <td>0.000301</td>\n",
       "      <td>-0.003038</td>\n",
       "    </tr>\n",
       "    <tr>\n",
       "      <th>1</th>\n",
       "      <td>1</td>\n",
       "      <td>0</td>\n",
       "      <td>0</td>\n",
       "      <td>0</td>\n",
       "      <td>1</td>\n",
       "      <td>1</td>\n",
       "      <td>0</td>\n",
       "      <td>0</td>\n",
       "      <td>0</td>\n",
       "      <td>1</td>\n",
       "      <td>...</td>\n",
       "      <td>NaN</td>\n",
       "      <td>NaN</td>\n",
       "      <td>NaN</td>\n",
       "      <td>NaN</td>\n",
       "      <td>NaN</td>\n",
       "      <td>NaN</td>\n",
       "      <td>NaN</td>\n",
       "      <td>-0.008495</td>\n",
       "      <td>0.000303</td>\n",
       "      <td>-0.009114</td>\n",
       "    </tr>\n",
       "    <tr>\n",
       "      <th>2</th>\n",
       "      <td>2</td>\n",
       "      <td>0</td>\n",
       "      <td>0</td>\n",
       "      <td>0</td>\n",
       "      <td>1</td>\n",
       "      <td>0</td>\n",
       "      <td>0</td>\n",
       "      <td>0</td>\n",
       "      <td>0</td>\n",
       "      <td>1</td>\n",
       "      <td>...</td>\n",
       "      <td>NaN</td>\n",
       "      <td>NaN</td>\n",
       "      <td>NaN</td>\n",
       "      <td>NaN</td>\n",
       "      <td>NaN</td>\n",
       "      <td>NaN</td>\n",
       "      <td>NaN</td>\n",
       "      <td>-0.009624</td>\n",
       "      <td>0.000301</td>\n",
       "      <td>-0.010243</td>\n",
       "    </tr>\n",
       "    <tr>\n",
       "      <th>3</th>\n",
       "      <td>3</td>\n",
       "      <td>0</td>\n",
       "      <td>0</td>\n",
       "      <td>0</td>\n",
       "      <td>1</td>\n",
       "      <td>0</td>\n",
       "      <td>0</td>\n",
       "      <td>0</td>\n",
       "      <td>0</td>\n",
       "      <td>0</td>\n",
       "      <td>...</td>\n",
       "      <td>NaN</td>\n",
       "      <td>NaN</td>\n",
       "      <td>NaN</td>\n",
       "      <td>NaN</td>\n",
       "      <td>NaN</td>\n",
       "      <td>NaN</td>\n",
       "      <td>NaN</td>\n",
       "      <td>0.004662</td>\n",
       "      <td>0.000299</td>\n",
       "      <td>0.004046</td>\n",
       "    </tr>\n",
       "    <tr>\n",
       "      <th>4</th>\n",
       "      <td>4</td>\n",
       "      <td>0</td>\n",
       "      <td>0</td>\n",
       "      <td>0</td>\n",
       "      <td>1</td>\n",
       "      <td>0</td>\n",
       "      <td>0</td>\n",
       "      <td>0</td>\n",
       "      <td>0</td>\n",
       "      <td>0</td>\n",
       "      <td>...</td>\n",
       "      <td>NaN</td>\n",
       "      <td>NaN</td>\n",
       "      <td>NaN</td>\n",
       "      <td>NaN</td>\n",
       "      <td>NaN</td>\n",
       "      <td>NaN</td>\n",
       "      <td>NaN</td>\n",
       "      <td>-0.011686</td>\n",
       "      <td>0.000299</td>\n",
       "      <td>-0.012301</td>\n",
       "    </tr>\n",
       "  </tbody>\n",
       "</table>\n",
       "<p>5 rows × 98 columns</p>\n",
       "</div>"
      ],
      "text/plain": [
       "   date_id  D1  D2  D3  D4  D5  D6  D7  D8  D9  ...  V3  V4  V5  V6  V7  V8  \\\n",
       "0        0   0   0   0   1   1   0   0   0   1  ... NaN NaN NaN NaN NaN NaN   \n",
       "1        1   0   0   0   1   1   0   0   0   1  ... NaN NaN NaN NaN NaN NaN   \n",
       "2        2   0   0   0   1   0   0   0   0   1  ... NaN NaN NaN NaN NaN NaN   \n",
       "3        3   0   0   0   1   0   0   0   0   0  ... NaN NaN NaN NaN NaN NaN   \n",
       "4        4   0   0   0   1   0   0   0   0   0  ... NaN NaN NaN NaN NaN NaN   \n",
       "\n",
       "   V9  forward_returns  risk_free_rate  market_forward_excess_returns  \n",
       "0 NaN        -0.002421        0.000301                      -0.003038  \n",
       "1 NaN        -0.008495        0.000303                      -0.009114  \n",
       "2 NaN        -0.009624        0.000301                      -0.010243  \n",
       "3 NaN         0.004662        0.000299                       0.004046  \n",
       "4 NaN        -0.011686        0.000299                      -0.012301  \n",
       "\n",
       "[5 rows x 98 columns]"
      ]
     },
     "execution_count": 3,
     "metadata": {},
     "output_type": "execute_result"
    }
   ],
   "source": [
    "train_df.head(5)"
   ]
  },
  {
   "cell_type": "code",
   "execution_count": 4,
   "id": "ccaf7111",
   "metadata": {
    "papermill": {
     "duration": 0.002059,
     "end_time": "2025-10-22T15:28:33.239293",
     "exception": false,
     "start_time": "2025-10-22T15:28:33.237234",
     "status": "completed"
    },
    "tags": []
   },
   "outputs": [
    {
     "data": {
      "application/vnd.microsoft.datawrangler.viewer.v0+json": {
       "columns": [
        {
         "name": "index",
         "rawType": "object",
         "type": "string"
        },
        {
         "name": "0",
         "rawType": "int64",
         "type": "integer"
        }
       ],
       "ref": "ed5b8231-751a-42f6-89b1-768712064e3f",
       "rows": [
        [
         "date_id",
         "0"
        ],
        [
         "D1",
         "0"
        ],
        [
         "D2",
         "0"
        ],
        [
         "D3",
         "0"
        ],
        [
         "D4",
         "0"
        ],
        [
         "D5",
         "0"
        ],
        [
         "D6",
         "0"
        ],
        [
         "D7",
         "0"
        ],
        [
         "D8",
         "0"
        ],
        [
         "D9",
         "0"
        ],
        [
         "E1",
         "1784"
        ],
        [
         "E10",
         "1006"
        ],
        [
         "E11",
         "1006"
        ],
        [
         "E12",
         "1006"
        ],
        [
         "E13",
         "1006"
        ],
        [
         "E14",
         "1006"
        ],
        [
         "E15",
         "1006"
        ],
        [
         "E16",
         "1006"
        ],
        [
         "E17",
         "1006"
        ],
        [
         "E18",
         "1006"
        ],
        [
         "E19",
         "1006"
        ],
        [
         "E2",
         "1006"
        ],
        [
         "E20",
         "1616"
        ],
        [
         "E3",
         "1006"
        ],
        [
         "E4",
         "1006"
        ],
        [
         "E5",
         "1006"
        ],
        [
         "E6",
         "1006"
        ],
        [
         "E7",
         "6969"
        ],
        [
         "E8",
         "1006"
        ],
        [
         "E9",
         "1006"
        ],
        [
         "I1",
         "1006"
        ],
        [
         "I2",
         "1006"
        ],
        [
         "I3",
         "1006"
        ],
        [
         "I4",
         "1006"
        ],
        [
         "I5",
         "1006"
        ],
        [
         "I6",
         "1006"
        ],
        [
         "I7",
         "1006"
        ],
        [
         "I8",
         "1006"
        ],
        [
         "I9",
         "1006"
        ],
        [
         "M1",
         "5547"
        ],
        [
         "M10",
         "1006"
        ],
        [
         "M11",
         "1006"
        ],
        [
         "M12",
         "1006"
        ],
        [
         "M13",
         "5540"
        ],
        [
         "M14",
         "5540"
        ],
        [
         "M15",
         "1006"
        ],
        [
         "M16",
         "1006"
        ],
        [
         "M17",
         "1006"
        ],
        [
         "M18",
         "1006"
        ],
        [
         "M2",
         "3217"
        ]
       ],
       "shape": {
        "columns": 1,
        "rows": 98
       }
      },
      "text/plain": [
       "date_id                             0\n",
       "D1                                  0\n",
       "D2                                  0\n",
       "D3                                  0\n",
       "D4                                  0\n",
       "                                 ... \n",
       "V8                               1006\n",
       "V9                               4539\n",
       "forward_returns                     0\n",
       "risk_free_rate                      0\n",
       "market_forward_excess_returns       0\n",
       "Length: 98, dtype: int64"
      ]
     },
     "execution_count": 4,
     "metadata": {},
     "output_type": "execute_result"
    }
   ],
   "source": [
    "# checking for missing values\n",
    "train_df.isnull().sum()"
   ]
  },
  {
   "cell_type": "markdown",
   "id": "3c281d53",
   "metadata": {},
   "source": [
    "We see that there are several missing values, need to tacke these first."
   ]
  },
  {
   "cell_type": "markdown",
   "id": "19eced17",
   "metadata": {},
   "source": [
    "But before that, need to do some EDA and Viz."
   ]
  },
  {
   "cell_type": "code",
   "execution_count": 5,
   "id": "eec12842",
   "metadata": {},
   "outputs": [
    {
     "data": {
      "application/vnd.microsoft.datawrangler.viewer.v0+json": {
       "columns": [
        {
         "name": "index",
         "rawType": "object",
         "type": "string"
        },
        {
         "name": "date_id",
         "rawType": "float64",
         "type": "float"
        },
        {
         "name": "D1",
         "rawType": "float64",
         "type": "float"
        },
        {
         "name": "D2",
         "rawType": "float64",
         "type": "float"
        },
        {
         "name": "D3",
         "rawType": "float64",
         "type": "float"
        },
        {
         "name": "D4",
         "rawType": "float64",
         "type": "float"
        },
        {
         "name": "D5",
         "rawType": "float64",
         "type": "float"
        },
        {
         "name": "D6",
         "rawType": "float64",
         "type": "float"
        },
        {
         "name": "D7",
         "rawType": "float64",
         "type": "float"
        },
        {
         "name": "D8",
         "rawType": "float64",
         "type": "float"
        },
        {
         "name": "D9",
         "rawType": "float64",
         "type": "float"
        },
        {
         "name": "E1",
         "rawType": "float64",
         "type": "float"
        },
        {
         "name": "E10",
         "rawType": "float64",
         "type": "float"
        },
        {
         "name": "E11",
         "rawType": "float64",
         "type": "float"
        },
        {
         "name": "E12",
         "rawType": "float64",
         "type": "float"
        },
        {
         "name": "E13",
         "rawType": "float64",
         "type": "float"
        },
        {
         "name": "E14",
         "rawType": "float64",
         "type": "float"
        },
        {
         "name": "E15",
         "rawType": "float64",
         "type": "float"
        },
        {
         "name": "E16",
         "rawType": "float64",
         "type": "float"
        },
        {
         "name": "E17",
         "rawType": "float64",
         "type": "float"
        },
        {
         "name": "E18",
         "rawType": "float64",
         "type": "float"
        },
        {
         "name": "E19",
         "rawType": "float64",
         "type": "float"
        },
        {
         "name": "E2",
         "rawType": "float64",
         "type": "float"
        },
        {
         "name": "E20",
         "rawType": "float64",
         "type": "float"
        },
        {
         "name": "E3",
         "rawType": "float64",
         "type": "float"
        },
        {
         "name": "E4",
         "rawType": "float64",
         "type": "float"
        },
        {
         "name": "E5",
         "rawType": "float64",
         "type": "float"
        },
        {
         "name": "E6",
         "rawType": "float64",
         "type": "float"
        },
        {
         "name": "E7",
         "rawType": "float64",
         "type": "float"
        },
        {
         "name": "E8",
         "rawType": "float64",
         "type": "float"
        },
        {
         "name": "E9",
         "rawType": "float64",
         "type": "float"
        },
        {
         "name": "I1",
         "rawType": "float64",
         "type": "float"
        },
        {
         "name": "I2",
         "rawType": "float64",
         "type": "float"
        },
        {
         "name": "I3",
         "rawType": "float64",
         "type": "float"
        },
        {
         "name": "I4",
         "rawType": "float64",
         "type": "float"
        },
        {
         "name": "I5",
         "rawType": "float64",
         "type": "float"
        },
        {
         "name": "I6",
         "rawType": "float64",
         "type": "float"
        },
        {
         "name": "I7",
         "rawType": "float64",
         "type": "float"
        },
        {
         "name": "I8",
         "rawType": "float64",
         "type": "float"
        },
        {
         "name": "I9",
         "rawType": "float64",
         "type": "float"
        },
        {
         "name": "M1",
         "rawType": "float64",
         "type": "float"
        },
        {
         "name": "M10",
         "rawType": "float64",
         "type": "float"
        },
        {
         "name": "M11",
         "rawType": "float64",
         "type": "float"
        },
        {
         "name": "M12",
         "rawType": "float64",
         "type": "float"
        },
        {
         "name": "M13",
         "rawType": "float64",
         "type": "float"
        },
        {
         "name": "M14",
         "rawType": "float64",
         "type": "float"
        },
        {
         "name": "M15",
         "rawType": "float64",
         "type": "float"
        },
        {
         "name": "M16",
         "rawType": "float64",
         "type": "float"
        },
        {
         "name": "M17",
         "rawType": "float64",
         "type": "float"
        },
        {
         "name": "M18",
         "rawType": "float64",
         "type": "float"
        },
        {
         "name": "M2",
         "rawType": "float64",
         "type": "float"
        },
        {
         "name": "M3",
         "rawType": "float64",
         "type": "float"
        },
        {
         "name": "M4",
         "rawType": "float64",
         "type": "float"
        },
        {
         "name": "M5",
         "rawType": "float64",
         "type": "float"
        },
        {
         "name": "M6",
         "rawType": "float64",
         "type": "float"
        },
        {
         "name": "M7",
         "rawType": "float64",
         "type": "float"
        },
        {
         "name": "M8",
         "rawType": "float64",
         "type": "float"
        },
        {
         "name": "M9",
         "rawType": "float64",
         "type": "float"
        },
        {
         "name": "P1",
         "rawType": "float64",
         "type": "float"
        },
        {
         "name": "P10",
         "rawType": "float64",
         "type": "float"
        },
        {
         "name": "P11",
         "rawType": "float64",
         "type": "float"
        },
        {
         "name": "P12",
         "rawType": "float64",
         "type": "float"
        },
        {
         "name": "P13",
         "rawType": "float64",
         "type": "float"
        },
        {
         "name": "P2",
         "rawType": "float64",
         "type": "float"
        },
        {
         "name": "P3",
         "rawType": "float64",
         "type": "float"
        },
        {
         "name": "P4",
         "rawType": "float64",
         "type": "float"
        },
        {
         "name": "P5",
         "rawType": "float64",
         "type": "float"
        },
        {
         "name": "P6",
         "rawType": "float64",
         "type": "float"
        },
        {
         "name": "P7",
         "rawType": "float64",
         "type": "float"
        },
        {
         "name": "P8",
         "rawType": "float64",
         "type": "float"
        },
        {
         "name": "P9",
         "rawType": "float64",
         "type": "float"
        },
        {
         "name": "S1",
         "rawType": "float64",
         "type": "float"
        },
        {
         "name": "S10",
         "rawType": "float64",
         "type": "float"
        },
        {
         "name": "S11",
         "rawType": "float64",
         "type": "float"
        },
        {
         "name": "S12",
         "rawType": "float64",
         "type": "float"
        },
        {
         "name": "S2",
         "rawType": "float64",
         "type": "float"
        },
        {
         "name": "S3",
         "rawType": "float64",
         "type": "float"
        },
        {
         "name": "S4",
         "rawType": "float64",
         "type": "float"
        },
        {
         "name": "S5",
         "rawType": "float64",
         "type": "float"
        },
        {
         "name": "S6",
         "rawType": "float64",
         "type": "float"
        },
        {
         "name": "S7",
         "rawType": "float64",
         "type": "float"
        },
        {
         "name": "S8",
         "rawType": "float64",
         "type": "float"
        },
        {
         "name": "S9",
         "rawType": "float64",
         "type": "float"
        },
        {
         "name": "V1",
         "rawType": "float64",
         "type": "float"
        },
        {
         "name": "V10",
         "rawType": "float64",
         "type": "float"
        },
        {
         "name": "V11",
         "rawType": "float64",
         "type": "float"
        },
        {
         "name": "V12",
         "rawType": "float64",
         "type": "float"
        },
        {
         "name": "V13",
         "rawType": "float64",
         "type": "float"
        },
        {
         "name": "V2",
         "rawType": "float64",
         "type": "float"
        },
        {
         "name": "V3",
         "rawType": "float64",
         "type": "float"
        },
        {
         "name": "V4",
         "rawType": "float64",
         "type": "float"
        },
        {
         "name": "V5",
         "rawType": "float64",
         "type": "float"
        },
        {
         "name": "V6",
         "rawType": "float64",
         "type": "float"
        },
        {
         "name": "V7",
         "rawType": "float64",
         "type": "float"
        },
        {
         "name": "V8",
         "rawType": "float64",
         "type": "float"
        },
        {
         "name": "V9",
         "rawType": "float64",
         "type": "float"
        },
        {
         "name": "forward_returns",
         "rawType": "float64",
         "type": "float"
        },
        {
         "name": "risk_free_rate",
         "rawType": "float64",
         "type": "float"
        },
        {
         "name": "market_forward_excess_returns",
         "rawType": "float64",
         "type": "float"
        }
       ],
       "ref": "ccbccf18-2701-4b0b-9748-ace4dfacf5ee",
       "rows": [
        [
         "count",
         "8990.0",
         "8990.0",
         "8990.0",
         "8990.0",
         "8990.0",
         "8990.0",
         "8990.0",
         "8990.0",
         "8990.0",
         "8990.0",
         "7206.0",
         "7984.0",
         "7984.0",
         "7984.0",
         "7984.0",
         "7984.0",
         "7984.0",
         "7984.0",
         "7984.0",
         "7984.0",
         "7984.0",
         "7984.0",
         "7374.0",
         "7984.0",
         "7984.0",
         "7984.0",
         "7984.0",
         "2021.0",
         "7984.0",
         "7984.0",
         "7984.0",
         "7984.0",
         "7984.0",
         "7984.0",
         "7984.0",
         "7984.0",
         "7984.0",
         "7984.0",
         "7984.0",
         "3443.0",
         "7984.0",
         "7984.0",
         "7984.0",
         "3450.0",
         "3450.0",
         "7984.0",
         "7984.0",
         "7984.0",
         "7984.0",
         "5773.0",
         "6972.0",
         "7984.0",
         "5707.0",
         "3947.0",
         "7984.0",
         "7984.0",
         "7984.0",
         "7984.0",
         "7984.0",
         "7984.0",
         "7984.0",
         "7984.0",
         "7984.0",
         "7984.0",
         "7984.0",
         "7416.0",
         "7352.0",
         "7374.0",
         "7984.0",
         "7984.0",
         "7984.0",
         "7984.0",
         "7984.0",
         "5453.0",
         "7984.0",
         "3257.0",
         "7984.0",
         "7479.0",
         "7984.0",
         "7984.0",
         "5981.0",
         "7984.0",
         "7984.0",
         "2941.0",
         "7984.0",
         "7984.0",
         "7479.0",
         "7984.0",
         "7984.0",
         "7984.0",
         "7478.0",
         "7984.0",
         "7479.0",
         "7984.0",
         "4451.0",
         "8990.0",
         "8990.0",
         "8990.0"
        ],
        [
         "mean",
         "4494.5",
         "0.03159065628476085",
         "0.03159065628476085",
         "0.047830923248053395",
         "0.575194660734149",
         "0.1906562847608454",
         "-0.23804226918798665",
         "0.0457174638487208",
         "0.142825361512792",
         "0.14315906562847608",
         "1.564573755427352",
         "0.5049410991294758",
         "0.12586900818833432",
         "0.11873909028374206",
         "0.012313814136208892",
         "0.007004584565957269",
         "0.485069883483899",
         "-0.04712707075658299",
         "-0.007330141424266452",
         "0.0978653899419443",
         "0.11879269101314603",
         "0.5006505406138918",
         "0.9029170668756855",
         "0.3405517961527946",
         "0.01679487447116451",
         "0.5996029757928555",
         "0.1223876324076725",
         "-0.03654473751125814",
         "-0.27205468581887804",
         "0.2631438886370625",
         "0.7468762756995472",
         "-0.5280135916094745",
         "0.6095592723144703",
         "0.5513871244473074",
         "0.18490451366051253",
         "0.4555003691244924",
         "0.7082627970888868",
         "0.5735089143233557",
         "0.18640075301076608",
         "-0.6156680893681342",
         "0.060732781116128016",
         "-0.28919037304885303",
         "0.4797522007727079",
         "-0.949367184234972",
         "-0.8647949019256637",
         "0.4617208126570601",
         "0.2305232157436566",
         "0.2725160141711995",
         "0.6006680606583537",
         "0.08592221971514129",
         "0.14481930139982296",
         "-0.0024618848153676915",
         "0.22900676418604984",
         "0.23249304314364844",
         "0.0032416092959185057",
         "0.43519910190751876",
         "0.38165630598593714",
         "0.5282532657908409",
         "1.4663651680424497",
         "1.2562513464494638",
         "-0.024978346835251176",
         "0.5088562955938332",
         "-0.3605447572873445",
         "0.4952454512199001",
         "0.5006614584990087",
         "0.00038488210958994337",
         "0.053780186066277734",
         "0.2494880896995015",
         "1.5420022110631475",
         "0.39502044764131444",
         "0.24048601994214552",
         "0.43766484688954627",
         "0.4327841363944821",
         "0.2644175945483492",
         "0.024569701121037586",
         "0.05911458257849566",
         "0.4560980012273223",
         "0.03509052194928063",
         "0.5155814274050746",
         "0.49325598120844866",
         "0.07511403194517643",
         "0.4566861898399975",
         "0.32562015565522573",
         "0.0010322968177320887",
         "0.23010666670642868",
         "0.25324972034015114",
         "0.11249370480984462",
         "0.5089280744027739",
         "0.48955322185376043",
         "0.5069301963715791",
         "0.3724944133858245",
         "0.2871785237140948",
         "0.14827036190775986",
         "0.30390762510470676",
         "0.12922740733766405",
         "0.0004692029066059326",
         "0.00010687852022525768",
         "5.054538444537142e-05"
        ],
        [
         "std",
         "2595.3337935610516",
         "0.17491738068962362",
         "0.17491738068962362",
         "0.21342022530460017",
         "0.49434092056966356",
         "0.3928404663292091",
         "0.42590882246912587",
         "0.20888329460799263",
         "0.3499141283049372",
         "0.3502544698209632",
         "0.6338951234846694",
         "0.33692163219946614",
         "0.24571884931848775",
         "0.25196108307076087",
         "0.019263340451428777",
         "0.012097129520157431",
         "0.34876862341867926",
         "1.1377414977884852",
         "1.159378386702665",
         "1.1468724075412484",
         "1.2476216955950732",
         "1.42467852159724",
         "1.2724638228539822",
         "1.5066525327796734",
         "0.041869902672457014",
         "0.33750613031302207",
         "0.22205011983259526",
         "1.9255209897183998",
         "1.5148174336824445",
         "0.29861914091652153",
         "0.24460560863726227",
         "1.2518687009955949",
         "0.3310432176084634",
         "0.30727225224772803",
         "1.6423495821676635",
         "0.302658632891311",
         "0.2567836571824807",
         "0.32606757222462407",
         "1.6418601019345163",
         "0.9997428946338035",
         "1.3179353929830147",
         "1.2238216233506247",
         "1.3974979505891658",
         "0.6536912705209662",
         "0.1927282595433686",
         "0.27350176374755775",
         "0.32629062847943824",
         "0.22698213163133388",
         "0.3439111786103854",
         "1.0922403634463973",
         "1.2206736035036831",
         "1.0942713727158746",
         "1.5506648784296444",
         "1.3648281932232431",
         "1.0204931945427331",
         "0.31770056366493227",
         "1.4118802096436944",
         "0.327812076907819",
         "0.8142719423488343",
         "1.0956074590063847",
         "1.082758046605198",
         "0.28394643695702504",
         "1.4454987137391662",
         "0.2883957967469064",
         "0.28818742253257196",
         "1.0705782149641927",
         "1.152703257033338",
         "1.1331839567517215",
         "0.7087871650479223",
         "0.3855239603463037",
         "1.4229647166381376",
         "0.3224643227505333",
         "0.3248206370058087",
         "0.9560375709035027",
         "1.0246334793122645",
         "1.0100711166188243",
         "0.32658896298257967",
         "1.1363824382767673",
         "0.28919971558374685",
         "0.3065976289163372",
         "1.098363429042361",
         "0.3282054623365567",
         "0.3463194527707836",
         "1.2468235510049237",
         "0.31609188773966507",
         "0.3066345279745771",
         "1.3310134655259522",
         "0.3064768377845622",
         "0.30622954152037885",
         "0.30655417362649034",
         "1.1532796210174",
         "0.3122378406732826",
         "1.3268789716479836",
         "0.351108686490762",
         "1.2772729790110198",
         "0.010550538072823844",
         "8.80105304892739e-05",
         "0.010567748849696875"
        ],
        [
         "min",
         "0.0",
         "0.0",
         "0.0",
         "0.0",
         "0.0",
         "0.0",
         "-1.0",
         "0.0",
         "0.0",
         "0.0",
         "0.325149307781904",
         "0.0006613756613756",
         "0.0006613756613756",
         "0.0006613756613756",
         "0.0006613756613756",
         "0.0006613756613756",
         "0.0006613756613756",
         "-5.13051886734726",
         "-4.30288545301228",
         "-4.13109725105291",
         "-1.82611360507597",
         "-4.67579099007867",
         "-3.30876359012349",
         "-5.37495128075387",
         "0.0006613756613756",
         "0.0006613756613756",
         "0.0006613756613756",
         "-19.9189721504777",
         "-2.45731551177113",
         "0.0006613756613756",
         "0.0026455026455026",
         "-3.54230791151908",
         "0.0006613756613756",
         "0.0006613756613756",
         "-4.44923463773741",
         "0.0006613756613756",
         "0.0033068783068783",
         "0.0006613756613756",
         "-4.54661931270706",
         "-2.52287010851511",
         "-4.76582811563201",
         "-3.1902494359085",
         "-2.99336703128678",
         "-1.93211014880961",
         "-1.32594992412888",
         "0.0006613756613756",
         "0.0006613756613756",
         "0.0006613756613756",
         "0.0006613756613756",
         "-2.66742055964188",
         "-1.80250656385437",
         "-9.38992526198382",
         "-3.42409534790017",
         "-2.46974789752742",
         "-4.31756868490586",
         "0.0006613756613756",
         "-2.83142858121283",
         "0.0006613756613756",
         "-1.16276634197097",
         "-2.71900442158848",
         "-1.53930040165552",
         "0.0023148148148148",
         "-3.14088867105364",
         "0.0439814814814815",
         "0.0661375661375661",
         "-1.43012060001961",
         "-0.78011504512448",
         "-3.13817446464889",
         "-1.78227636800986",
         "0.0006613756613756",
         "-1.93536716259688",
         "0.0006613756613756",
         "0.0006613756613756",
         "-2.10347154478559",
         "-3.42976121201032",
         "-3.47220227007961",
         "0.0006613756613756",
         "-13.1246186821555",
         "0.0006613756613756",
         "0.0006613756613756",
         "-3.87684647423503",
         "0.0006613756613756",
         "0.0006613756613756",
         "-1.47354286691075",
         "0.0006613756613756",
         "0.0006613756613756",
         "-4.77034696436072",
         "0.0006613756613756",
         "0.0006613756613756",
         "0.0006613756613756",
         "-2.72352732215485",
         "0.0006613756613756",
         "-2.02755123962013",
         "0.0006613756613756",
         "-1.49741995872118",
         "-0.0397536785608555",
         "-4.16666666666667e-06",
         "-0.0405819137459235"
        ],
        [
         "25%",
         "2247.25",
         "0.0",
         "0.0",
         "0.0",
         "0.0",
         "0.0",
         "0.0",
         "0.0",
         "0.0",
         "0.0",
         "1.1146328280991276",
         "0.165674603174603",
         "0.0049603174603174",
         "0.0036375661375661",
         "0.0029761904761904",
         "0.0023148148148148",
         "0.12797619047619",
         "-0.7669066077902248",
         "-0.8303204913826687",
         "-0.6598481386684455",
         "-0.6422865857724217",
         "-0.5603702800687107",
         "0.4408732316770685",
         "-0.6616010063276241",
         "0.0026455026455026",
         "0.305555555555556",
         "0.0132275132275132",
         "-0.124696199879589",
         "-1.1858393331643473",
         "0.0076058201058201",
         "0.558531746031746",
         "-1.4698750933412876",
         "0.312665343915344",
         "0.314484126984127",
         "-1.027724989321815",
         "0.164021164021164",
         "0.53042328042328",
         "0.303571428571429",
         "-1.0248705549615074",
         "-1.338306668654335",
         "-0.8652876359177413",
         "-1.1225884652575575",
         "-0.47190491219584774",
         "-1.408310343930515",
         "-0.9793209238902392",
         "0.206349206349206",
         "0.0006613756613756",
         "0.0479497354497355",
         "0.295304232804233",
         "-0.73518666468423",
         "-0.6405760306185962",
         "-0.4868620085612455",
         "-0.9736294087793065",
         "-0.503625981806768",
         "-0.5780684608117957",
         "0.131613756613757",
         "-0.5501900422127253",
         "0.225529100529101",
         "1.086914992227925",
         "0.635653081118202",
         "-0.71556034878936",
         "0.26479828042328024",
         "-1.4120043575532875",
         "0.244047619047619",
         "0.24925595238095224",
         "-0.7619558325898456",
         "-0.4319398541803232",
         "-0.5729927065860956",
         "1.3423594832642727",
         "0.044973544973545",
         "-0.8357428500687655",
         "0.134259259259259",
         "0.118386243386243",
         "-0.431275642678763",
         "-0.6619047852535533",
         "-0.721156775548771",
         "0.14401455026455023",
         "-0.343841347031007",
         "0.273065476190476",
         "0.215525793650794",
         "-0.643886630522545",
         "0.141534391534392",
         "0.0006613756613756",
         "-0.821093786848275",
         "0.0006613756613756",
         "0.0006613756613756",
         "-0.6890751080095485",
         "0.242063492063492",
         "0.207010582010582",
         "0.236111111111111",
         "-0.47286406004020354",
         "0.0006613756613756",
         "-0.7971676350192696",
         "0.0006613756613756",
         "-0.7382418214199944",
         "-0.004323719318896951",
         "7.93650793650794e-06",
         "-0.004759331863564825"
        ],
        [
         "50%",
         "4494.5",
         "0.0",
         "0.0",
         "0.0",
         "1.0",
         "0.0",
         "0.0",
         "0.0",
         "0.0",
         "0.0",
         "1.51665088353265",
         "0.505787037037037",
         "0.019510582010582",
         "0.0069444444444444",
         "0.0052910052910052",
         "0.0042989417989418",
         "0.44130291005291",
         "0.00176494890496185",
         "0.06271011294263404",
         "0.0039392944488438",
         "-0.2033933537493465",
         "0.69364206445577",
         "1.220291451384085",
         "0.30869872473953497",
         "0.0049603174603174",
         "0.650132275132275",
         "0.0307539682539683",
         "0.0161713788484876",
         "-0.514609998014857",
         "0.104166666666667",
         "0.833002645502645",
         "-0.7579774312922675",
         "0.6929563492063491",
         "0.526785714285714",
         "-0.1025408581933625",
         "0.458994708994709",
         "0.760582010582011",
         "0.598544973544973",
         "-0.10476282214389851",
         "-0.794959597671977",
         "0.14068653959205352",
         "-0.296835783647209",
         "0.4937057452187925",
         "-1.0847202066812",
         "-0.8008001332697541",
         "0.494047619047619",
         "0.0006613756613756",
         "0.220899470899471",
         "0.702380952380952",
         "-0.0207680340099227",
         "-0.15060380051497",
         "0.05343941223439935",
         "0.399692680055762",
         "-0.144888700769023",
         "-0.045243397463934854",
         "0.420634920634921",
         "-0.11816871944782201",
         "0.541666666666667",
         "1.725589543087445",
         "1.541899063069665",
         "-0.3825816404060365",
         "0.539021164021164",
         "-0.51829681982854",
         "0.494708994708995",
         "0.50297619047619",
         "-0.28999246609871954",
         "-0.29378767103840253",
         "0.27815073749839847",
         "1.728023585704845",
         "0.197089947089947",
         "-0.1339155280843905",
         "0.427248677248677",
         "0.417989417989418",
         "0.208027028117795",
         "0.13155451497527748",
         "0.170782839742221",
         "0.461640211640212",
         "-0.029040619001341",
         "0.518518518518518",
         "0.481812169312169",
         "0.335213315139659",
         "0.46031746031746",
         "0.194775132275132",
         "-0.385686195505173",
         "0.0006613756613756",
         "0.09755291005291006",
         "-0.223792738157565",
         "0.513227513227513",
         "0.49239417989418",
         "0.519179894179894",
         "0.275162127579257",
         "0.180224867724868",
         "-0.0976704191528135",
         "0.10102513227513199",
         "-0.170824713031369",
         "0.0006585521174722",
         "9.5238095238e-05",
         "0.00025175312094985003"
        ],
        [
         "75%",
         "6741.75",
         "0.0",
         "0.0",
         "0.0",
         "1.0",
         "0.0",
         "0.0",
         "0.0",
         "0.0",
         "0.0",
         "1.8769773208463776",
         "0.822751322751323",
         "0.08738425925925924",
         "0.07481812169312167",
         "0.0152116402116402",
         "0.0062830687830687",
         "0.833333333333333",
         "0.7633893521451948",
         "0.808830958700464",
         "0.9099918793189588",
         "0.5073213187053067",
         "1.6385415430391626",
         "1.7114113620544225",
         "1.4828876846183099",
         "0.0072751322751322",
         "0.953125",
         "0.0985449735449735",
         "0.425971504402634",
         "0.022738317584117124",
         "0.47197420634920595",
         "0.959325396825397",
         "0.1723590389222545",
         "0.924603174603175",
         "0.8291170634920637",
         "1.2990371263490474",
         "0.704365079365079",
         "0.939897486772487",
         "0.894179894179894",
         "1.3015440807780925",
         "-0.03576214175660155",
         "1.0900593836743049",
         "0.3953123806335438",
         "1.47867662567577",
         "-0.5554241989439297",
         "-0.7041934568594768",
         "0.689153439153439",
         "0.490740740740741",
         "0.463624338624339",
         "0.93287037037037",
         "0.851346963824543",
         "0.571052705504557",
         "0.5597791460272472",
         "1.1047647526993751",
         "0.586205344457137",
         "0.669765909398344",
         "0.712384259259259",
         "1.0525389168692274",
         "0.841931216931217",
         "2.05013165743043",
         "2.0744668338043075",
         "0.27758571101673674",
         "0.742146164021164",
         "0.5537647053732835",
         "0.743055555555556",
         "0.751653439153439",
         "0.4421329516122595",
         "0.044580138322541873",
         "1.0601716526025475",
         "1.974044522838925",
         "0.823412698412698",
         "0.986558868833409",
         "0.720899470899471",
         "0.71957671957672",
         "0.851916833679067",
         "0.7837098307329505",
         "0.862573166192206",
         "0.746693121693122",
         "0.3648192286056015",
         "0.761904761904762",
         "0.766203703703704",
         "0.954387048135676",
         "0.750661375661376",
         "0.639054232804233",
         "0.561929198170776",
         "0.460978835978836",
         "0.47461970899470896",
         "0.4759797892262065",
         "0.777777777777778",
         "0.760582010582011",
         "0.772486772486772",
         "1.1250691284568601",
         "0.515873015873016",
         "0.7957632893310755",
         "0.590029761904762",
         "0.685907469121751",
         "0.005899991121796775",
         "0.0001932539682539",
         "0.0054794648032180995"
        ],
        [
         "max",
         "8989.0",
         "1.0",
         "1.0",
         "1.0",
         "1.0",
         "1.0",
         "0.0",
         "1.0",
         "1.0",
         "1.0",
         "4.84391083283968",
         "1.0",
         "1.0",
         "1.0",
         "0.169973544973545",
         "0.118386243386243",
         "1.0",
         "2.93673259683217",
         "2.98914020822713",
         "3.02413582220036",
         "14.7137676775013",
         "3.40324227565774",
         "3.40981197995119",
         "3.61962326020694",
         "0.383267195767196",
         "1.0",
         "1.0",
         "3.50999372074342",
         "35.8600719208668",
         "1.0",
         "1.0",
         "6.37667669312683",
         "1.0",
         "1.0",
         "4.8899127762591",
         "1.0",
         "1.0",
         "1.0",
         "4.92051233602922",
         "5.1258988383677",
         "3.40121254236088",
         "7.76065808619061",
         "5.20205171767791",
         "1.02631191231548",
         "-0.5861875377881",
         "1.0",
         "1.0",
         "0.853174603174603",
         "1.0",
         "4.31622203662514",
         "11.2847573162763",
         "13.1199669445514",
         "5.96190556553846",
         "12.8334305393723",
         "2.98753951504648",
         "1.0",
         "6.33800659124766",
         "1.0",
         "2.64422894021611",
         "3.05617063280224",
         "9.97557319600053",
         "1.0",
         "7.21104797914015",
         "0.978505291005291",
         "0.98478835978836",
         "6.61429464724658",
         "15.6692578757727",
         "4.00131568941706",
         "2.86450834099947",
         "1.0",
         "6.60042836382263",
         "1.0",
         "1.0",
         "5.64287696534729",
         "2.39202356425549",
         "2.6565729397318",
         "1.0",
         "10.3707659628814",
         "1.0",
         "1.0",
         "2.31153782017535",
         "1.0",
         "1.0",
         "12.7421902928869",
         "1.0",
         "1.0",
         "24.1514652140451",
         "1.0",
         "1.0",
         "1.0",
         "6.80991225116974",
         "1.0",
         "12.6782641336777",
         "1.0",
         "12.9975359553446",
         "0.0406614461349365",
         "0.0003170634920634",
         "0.0405510761962616"
        ]
       ],
       "shape": {
        "columns": 98,
        "rows": 8
       }
      },
      "text/html": [
       "<div>\n",
       "<style scoped>\n",
       "    .dataframe tbody tr th:only-of-type {\n",
       "        vertical-align: middle;\n",
       "    }\n",
       "\n",
       "    .dataframe tbody tr th {\n",
       "        vertical-align: top;\n",
       "    }\n",
       "\n",
       "    .dataframe thead th {\n",
       "        text-align: right;\n",
       "    }\n",
       "</style>\n",
       "<table border=\"1\" class=\"dataframe\">\n",
       "  <thead>\n",
       "    <tr style=\"text-align: right;\">\n",
       "      <th></th>\n",
       "      <th>date_id</th>\n",
       "      <th>D1</th>\n",
       "      <th>D2</th>\n",
       "      <th>D3</th>\n",
       "      <th>D4</th>\n",
       "      <th>D5</th>\n",
       "      <th>D6</th>\n",
       "      <th>D7</th>\n",
       "      <th>D8</th>\n",
       "      <th>D9</th>\n",
       "      <th>...</th>\n",
       "      <th>V3</th>\n",
       "      <th>V4</th>\n",
       "      <th>V5</th>\n",
       "      <th>V6</th>\n",
       "      <th>V7</th>\n",
       "      <th>V8</th>\n",
       "      <th>V9</th>\n",
       "      <th>forward_returns</th>\n",
       "      <th>risk_free_rate</th>\n",
       "      <th>market_forward_excess_returns</th>\n",
       "    </tr>\n",
       "  </thead>\n",
       "  <tbody>\n",
       "    <tr>\n",
       "      <th>count</th>\n",
       "      <td>8990.000000</td>\n",
       "      <td>8990.000000</td>\n",
       "      <td>8990.000000</td>\n",
       "      <td>8990.000000</td>\n",
       "      <td>8990.000000</td>\n",
       "      <td>8990.000000</td>\n",
       "      <td>8990.000000</td>\n",
       "      <td>8990.000000</td>\n",
       "      <td>8990.000000</td>\n",
       "      <td>8990.000000</td>\n",
       "      <td>...</td>\n",
       "      <td>7984.000000</td>\n",
       "      <td>7984.000000</td>\n",
       "      <td>7478.000000</td>\n",
       "      <td>7984.000000</td>\n",
       "      <td>7479.000000</td>\n",
       "      <td>7984.000000</td>\n",
       "      <td>4451.000000</td>\n",
       "      <td>8990.000000</td>\n",
       "      <td>8990.000000</td>\n",
       "      <td>8990.000000</td>\n",
       "    </tr>\n",
       "    <tr>\n",
       "      <th>mean</th>\n",
       "      <td>4494.500000</td>\n",
       "      <td>0.031591</td>\n",
       "      <td>0.031591</td>\n",
       "      <td>0.047831</td>\n",
       "      <td>0.575195</td>\n",
       "      <td>0.190656</td>\n",
       "      <td>-0.238042</td>\n",
       "      <td>0.045717</td>\n",
       "      <td>0.142825</td>\n",
       "      <td>0.143159</td>\n",
       "      <td>...</td>\n",
       "      <td>0.489553</td>\n",
       "      <td>0.506930</td>\n",
       "      <td>0.372494</td>\n",
       "      <td>0.287179</td>\n",
       "      <td>0.148270</td>\n",
       "      <td>0.303908</td>\n",
       "      <td>0.129227</td>\n",
       "      <td>0.000469</td>\n",
       "      <td>0.000107</td>\n",
       "      <td>0.000051</td>\n",
       "    </tr>\n",
       "    <tr>\n",
       "      <th>std</th>\n",
       "      <td>2595.333794</td>\n",
       "      <td>0.174917</td>\n",
       "      <td>0.174917</td>\n",
       "      <td>0.213420</td>\n",
       "      <td>0.494341</td>\n",
       "      <td>0.392840</td>\n",
       "      <td>0.425909</td>\n",
       "      <td>0.208883</td>\n",
       "      <td>0.349914</td>\n",
       "      <td>0.350254</td>\n",
       "      <td>...</td>\n",
       "      <td>0.306230</td>\n",
       "      <td>0.306554</td>\n",
       "      <td>1.153280</td>\n",
       "      <td>0.312238</td>\n",
       "      <td>1.326879</td>\n",
       "      <td>0.351109</td>\n",
       "      <td>1.277273</td>\n",
       "      <td>0.010551</td>\n",
       "      <td>0.000088</td>\n",
       "      <td>0.010568</td>\n",
       "    </tr>\n",
       "    <tr>\n",
       "      <th>min</th>\n",
       "      <td>0.000000</td>\n",
       "      <td>0.000000</td>\n",
       "      <td>0.000000</td>\n",
       "      <td>0.000000</td>\n",
       "      <td>0.000000</td>\n",
       "      <td>0.000000</td>\n",
       "      <td>-1.000000</td>\n",
       "      <td>0.000000</td>\n",
       "      <td>0.000000</td>\n",
       "      <td>0.000000</td>\n",
       "      <td>...</td>\n",
       "      <td>0.000661</td>\n",
       "      <td>0.000661</td>\n",
       "      <td>-2.723527</td>\n",
       "      <td>0.000661</td>\n",
       "      <td>-2.027551</td>\n",
       "      <td>0.000661</td>\n",
       "      <td>-1.497420</td>\n",
       "      <td>-0.039754</td>\n",
       "      <td>-0.000004</td>\n",
       "      <td>-0.040582</td>\n",
       "    </tr>\n",
       "    <tr>\n",
       "      <th>25%</th>\n",
       "      <td>2247.250000</td>\n",
       "      <td>0.000000</td>\n",
       "      <td>0.000000</td>\n",
       "      <td>0.000000</td>\n",
       "      <td>0.000000</td>\n",
       "      <td>0.000000</td>\n",
       "      <td>0.000000</td>\n",
       "      <td>0.000000</td>\n",
       "      <td>0.000000</td>\n",
       "      <td>0.000000</td>\n",
       "      <td>...</td>\n",
       "      <td>0.207011</td>\n",
       "      <td>0.236111</td>\n",
       "      <td>-0.472864</td>\n",
       "      <td>0.000661</td>\n",
       "      <td>-0.797168</td>\n",
       "      <td>0.000661</td>\n",
       "      <td>-0.738242</td>\n",
       "      <td>-0.004324</td>\n",
       "      <td>0.000008</td>\n",
       "      <td>-0.004759</td>\n",
       "    </tr>\n",
       "    <tr>\n",
       "      <th>50%</th>\n",
       "      <td>4494.500000</td>\n",
       "      <td>0.000000</td>\n",
       "      <td>0.000000</td>\n",
       "      <td>0.000000</td>\n",
       "      <td>1.000000</td>\n",
       "      <td>0.000000</td>\n",
       "      <td>0.000000</td>\n",
       "      <td>0.000000</td>\n",
       "      <td>0.000000</td>\n",
       "      <td>0.000000</td>\n",
       "      <td>...</td>\n",
       "      <td>0.492394</td>\n",
       "      <td>0.519180</td>\n",
       "      <td>0.275162</td>\n",
       "      <td>0.180225</td>\n",
       "      <td>-0.097670</td>\n",
       "      <td>0.101025</td>\n",
       "      <td>-0.170825</td>\n",
       "      <td>0.000659</td>\n",
       "      <td>0.000095</td>\n",
       "      <td>0.000252</td>\n",
       "    </tr>\n",
       "    <tr>\n",
       "      <th>75%</th>\n",
       "      <td>6741.750000</td>\n",
       "      <td>0.000000</td>\n",
       "      <td>0.000000</td>\n",
       "      <td>0.000000</td>\n",
       "      <td>1.000000</td>\n",
       "      <td>0.000000</td>\n",
       "      <td>0.000000</td>\n",
       "      <td>0.000000</td>\n",
       "      <td>0.000000</td>\n",
       "      <td>0.000000</td>\n",
       "      <td>...</td>\n",
       "      <td>0.760582</td>\n",
       "      <td>0.772487</td>\n",
       "      <td>1.125069</td>\n",
       "      <td>0.515873</td>\n",
       "      <td>0.795763</td>\n",
       "      <td>0.590030</td>\n",
       "      <td>0.685907</td>\n",
       "      <td>0.005900</td>\n",
       "      <td>0.000193</td>\n",
       "      <td>0.005479</td>\n",
       "    </tr>\n",
       "    <tr>\n",
       "      <th>max</th>\n",
       "      <td>8989.000000</td>\n",
       "      <td>1.000000</td>\n",
       "      <td>1.000000</td>\n",
       "      <td>1.000000</td>\n",
       "      <td>1.000000</td>\n",
       "      <td>1.000000</td>\n",
       "      <td>0.000000</td>\n",
       "      <td>1.000000</td>\n",
       "      <td>1.000000</td>\n",
       "      <td>1.000000</td>\n",
       "      <td>...</td>\n",
       "      <td>1.000000</td>\n",
       "      <td>1.000000</td>\n",
       "      <td>6.809912</td>\n",
       "      <td>1.000000</td>\n",
       "      <td>12.678264</td>\n",
       "      <td>1.000000</td>\n",
       "      <td>12.997536</td>\n",
       "      <td>0.040661</td>\n",
       "      <td>0.000317</td>\n",
       "      <td>0.040551</td>\n",
       "    </tr>\n",
       "  </tbody>\n",
       "</table>\n",
       "<p>8 rows × 98 columns</p>\n",
       "</div>"
      ],
      "text/plain": [
       "           date_id           D1           D2           D3           D4  \\\n",
       "count  8990.000000  8990.000000  8990.000000  8990.000000  8990.000000   \n",
       "mean   4494.500000     0.031591     0.031591     0.047831     0.575195   \n",
       "std    2595.333794     0.174917     0.174917     0.213420     0.494341   \n",
       "min       0.000000     0.000000     0.000000     0.000000     0.000000   \n",
       "25%    2247.250000     0.000000     0.000000     0.000000     0.000000   \n",
       "50%    4494.500000     0.000000     0.000000     0.000000     1.000000   \n",
       "75%    6741.750000     0.000000     0.000000     0.000000     1.000000   \n",
       "max    8989.000000     1.000000     1.000000     1.000000     1.000000   \n",
       "\n",
       "                D5           D6           D7           D8           D9  ...  \\\n",
       "count  8990.000000  8990.000000  8990.000000  8990.000000  8990.000000  ...   \n",
       "mean      0.190656    -0.238042     0.045717     0.142825     0.143159  ...   \n",
       "std       0.392840     0.425909     0.208883     0.349914     0.350254  ...   \n",
       "min       0.000000    -1.000000     0.000000     0.000000     0.000000  ...   \n",
       "25%       0.000000     0.000000     0.000000     0.000000     0.000000  ...   \n",
       "50%       0.000000     0.000000     0.000000     0.000000     0.000000  ...   \n",
       "75%       0.000000     0.000000     0.000000     0.000000     0.000000  ...   \n",
       "max       1.000000     0.000000     1.000000     1.000000     1.000000  ...   \n",
       "\n",
       "                V3           V4           V5           V6           V7  \\\n",
       "count  7984.000000  7984.000000  7478.000000  7984.000000  7479.000000   \n",
       "mean      0.489553     0.506930     0.372494     0.287179     0.148270   \n",
       "std       0.306230     0.306554     1.153280     0.312238     1.326879   \n",
       "min       0.000661     0.000661    -2.723527     0.000661    -2.027551   \n",
       "25%       0.207011     0.236111    -0.472864     0.000661    -0.797168   \n",
       "50%       0.492394     0.519180     0.275162     0.180225    -0.097670   \n",
       "75%       0.760582     0.772487     1.125069     0.515873     0.795763   \n",
       "max       1.000000     1.000000     6.809912     1.000000    12.678264   \n",
       "\n",
       "                V8           V9  forward_returns  risk_free_rate  \\\n",
       "count  7984.000000  4451.000000      8990.000000     8990.000000   \n",
       "mean      0.303908     0.129227         0.000469        0.000107   \n",
       "std       0.351109     1.277273         0.010551        0.000088   \n",
       "min       0.000661    -1.497420        -0.039754       -0.000004   \n",
       "25%       0.000661    -0.738242        -0.004324        0.000008   \n",
       "50%       0.101025    -0.170825         0.000659        0.000095   \n",
       "75%       0.590030     0.685907         0.005900        0.000193   \n",
       "max       1.000000    12.997536         0.040661        0.000317   \n",
       "\n",
       "       market_forward_excess_returns  \n",
       "count                    8990.000000  \n",
       "mean                        0.000051  \n",
       "std                         0.010568  \n",
       "min                        -0.040582  \n",
       "25%                        -0.004759  \n",
       "50%                         0.000252  \n",
       "75%                         0.005479  \n",
       "max                         0.040551  \n",
       "\n",
       "[8 rows x 98 columns]"
      ]
     },
     "execution_count": 5,
     "metadata": {},
     "output_type": "execute_result"
    }
   ],
   "source": [
    "train_df.describe()"
   ]
  },
  {
   "cell_type": "code",
   "execution_count": 6,
   "id": "9aa143b6",
   "metadata": {},
   "outputs": [
    {
     "data": {
      "image/png": "[encoded data removed]",
      "text/plain": [
       "<Figure size 2000x1500 with 100 Axes>"
      ]
     },
     "metadata": {},
     "output_type": "display_data"
    }
   ],
   "source": [
    "train_df.hist(bins=50, figsize=(20,15))\n",
    "plt.show()"
   ]
  },
  {
   "cell_type": "code",
   "execution_count": null,
   "id": "a0cdf08e",
   "metadata": {},
   "outputs": [],
   "source": []
  }
 ],
 "metadata": {
  "kaggle": {
   "accelerator": "none",
   "dataSources": [
    {
     "databundleVersionId": 13750964,
     "sourceId": 111543,
     "sourceType": "competition"
    }
   ],
   "dockerImageVersionId": 31153,
   "isGpuEnabled": false,
   "isInternetEnabled": true,
   "language": "python",
   "sourceType": "notebook"
  },
  "kernelspec": {
   "display_name": "venv",
   "language": "python",
   "name": "python3"
  },
  "language_info": {
   "codemirror_mode": {
    "name": "ipython",
    "version": 3
   },
   "file_extension": ".py",
   "mimetype": "text/x-python",
   "name": "python",
   "nbconvert_exporter": "python",
   "pygments_lexer": "ipython3",
   "version": "3.10.18"
  },
  "papermill": {
   "default_parameters": {},
   "duration": 7.617248,
   "end_time": "2025-10-22T15:28:33.765463",
   "environment_variables": {},
   "exception": null,
   "input_path": "__notebook__.ipynb",
   "output_path": "__notebook__.ipynb",
   "parameters": {},
   "start_time": "2025-10-22T15:28:26.148215",
   "version": "2.6.0"
  }
 },
 "nbformat": 4,
 "nbformat_minor": 5
}
